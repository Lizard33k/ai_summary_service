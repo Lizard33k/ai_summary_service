{
 "cells": [
  {
   "cell_type": "code",
   "execution_count": 3,
   "id": "6473d59a",
   "metadata": {},
   "outputs": [
    {
     "name": "stdout",
     "output_type": "stream",
     "text": [
      "hello\n"
     ]
    }
   ],
   "source": [
    "print(\"hello\")\n",
    "from pydantic import BaseModel, Field, validator\n",
    "from langchain_openai import ChatOpenAI\n",
    "from langchain.prompts import PromptTemplate\n",
    "from langchain_core.output_parsers import JsonOutputParser, PydanticOutputParser\n",
    "from langchain_core.runnables import Runnable\n",
    "from langchain_core.messages import HumanMessage"
   ]
  },
  {
   "cell_type": "code",
   "execution_count": 3,
   "id": "bbc11e61",
   "metadata": {},
   "outputs": [
    {
     "ename": "NameError",
     "evalue": "name '__file__' is not defined",
     "output_type": "error",
     "traceback": [
      "\u001b[0;31m---------------------------------------------------------------------------\u001b[0m",
      "\u001b[0;31mNameError\u001b[0m                                 Traceback (most recent call last)",
      "Cell \u001b[0;32mIn[3], line 4\u001b[0m\n\u001b[1;32m      1\u001b[0m \u001b[38;5;28;01mimport\u001b[39;00m\u001b[38;5;250m \u001b[39m\u001b[38;5;21;01mos\u001b[39;00m\n\u001b[1;32m      3\u001b[0m \u001b[38;5;66;03m# Get path to project root (one level up from utils)\u001b[39;00m\n\u001b[0;32m----> 4\u001b[0m project_root \u001b[38;5;241m=\u001b[39m os\u001b[38;5;241m.\u001b[39mpath\u001b[38;5;241m.\u001b[39mdirname(os\u001b[38;5;241m.\u001b[39mpath\u001b[38;5;241m.\u001b[39mdirname(\u001b[38;5;18;43m__file__\u001b[39;49m))\n\u001b[1;32m      6\u001b[0m \u001b[38;5;66;03m# Build path to secret file\u001b[39;00m\n\u001b[1;32m      7\u001b[0m key_file \u001b[38;5;241m=\u001b[39m os\u001b[38;5;241m.\u001b[39mpath\u001b[38;5;241m.\u001b[39mjoin(project_root, \u001b[38;5;124m\"\u001b[39m\u001b[38;5;124msecret_keys\u001b[39m\u001b[38;5;124m\"\u001b[39m, \u001b[38;5;124m\"\u001b[39m\u001b[38;5;124msecret_keys1.txt\u001b[39m\u001b[38;5;124m\"\u001b[39m)\n",
      "\u001b[0;31mNameError\u001b[0m: name '__file__' is not defined"
     ]
    }
   ],
   "source": [
    "import os\n",
    "\n",
    "# Get path to project root (one level up from utils)\n",
    "project_root = os.path.dirname(os.path.dirname(__file__))\n",
    "\n",
    "# Build path to secret file\n",
    "key_file = os.path.join(project_root, \"secret_keys\", \"secret_keys1.txt\")"
   ]
  },
  {
   "cell_type": "code",
   "execution_count": null,
   "id": "a74324aa",
   "metadata": {},
   "outputs": [],
   "source": [
    "key_file = \"/home/lizard/Fatin/Polyculture/ai_summary_service/secret_keys/secret_keys1.txt\"\n",
    "\n",
    "# Read the API key from file\n",
    "with open(key_file, \"r\") as f:\n",
    "    api_key = f.read().strip()  "
   ]
  },
  {
   "cell_type": "code",
   "execution_count": 4,
   "id": "a2d9745d",
   "metadata": {},
   "outputs": [],
   "source": [
    "llm = ChatOpenAI(\n",
    "        openai_api_base=\"http://localhost:11434/v1/\",\n",
    "        openai_api_key=\"12345678\",\n",
    "        model_name=\"gemma3:4b\")"
   ]
  },
  {
   "cell_type": "code",
   "execution_count": 5,
   "id": "0e23a48e",
   "metadata": {},
   "outputs": [
    {
     "name": "stdout",
     "output_type": "stream",
     "text": [
      "content='I’m doing great, thanks for asking! As a large language model, I don’t really *feel* in the way humans do, but my systems are running smoothly and I’m ready to chat. 😊 \\n\\nHow about you? How’s your day going so far? \\n\\nDo you want to talk about something specific, or just have a general conversation?' additional_kwargs={'refusal': None} response_metadata={'token_usage': {'completion_tokens': 79, 'prompt_tokens': 14, 'total_tokens': 93, 'completion_tokens_details': None, 'prompt_tokens_details': None}, 'model_name': 'gemma3:4b', 'system_fingerprint': 'fp_ollama', 'finish_reason': 'stop', 'logprobs': None} id='run-fe35d9cc-6a6c-4536-8ad7-e4374e929f2f-0' usage_metadata={'input_tokens': 14, 'output_tokens': 79, 'total_tokens': 93}\n"
     ]
    }
   ],
   "source": [
    "res = llm.invoke(\"hi how are you?\")\n",
    "print(res)"
   ]
  },
  {
   "cell_type": "code",
   "execution_count": null,
   "id": "5dcae449",
   "metadata": {},
   "outputs": [],
   "source": []
  }
 ],
 "metadata": {
  "kernelspec": {
   "display_name": "polyculture_ai_service",
   "language": "python",
   "name": "python3"
  },
  "language_info": {
   "codemirror_mode": {
    "name": "ipython",
    "version": 3
   },
   "file_extension": ".py",
   "mimetype": "text/x-python",
   "name": "python",
   "nbconvert_exporter": "python",
   "pygments_lexer": "ipython3",
   "version": "3.9.23"
  }
 },
 "nbformat": 4,
 "nbformat_minor": 5
}
